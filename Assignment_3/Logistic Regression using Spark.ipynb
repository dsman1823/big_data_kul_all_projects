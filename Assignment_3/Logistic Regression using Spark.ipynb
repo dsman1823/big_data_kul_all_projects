{
 "cells": [
  {
   "cell_type": "code",
   "execution_count": 1,
   "id": "c300dbcd",
   "metadata": {},
   "outputs": [],
   "source": [
    "from pyspark.sql import SparkSession\n",
    "from pyspark.ml.feature import Tokenizer, StopWordsRemover, CountVectorizer\n",
    "from pyspark.ml.classification import LogisticRegression\n",
    "from pyspark.ml import Pipeline\n",
    "from pyspark.sql.functions import udf\n",
    "from pyspark.sql.types import IntegerType\n",
    "from pyspark.ml.evaluation import MulticlassClassificationEvaluator"
   ]
  },
  {
   "cell_type": "code",
   "execution_count": 2,
   "id": "b5c05d87",
   "metadata": {},
   "outputs": [],
   "source": [
    "# Create a Spark session\n",
    "spark = SparkSession.builder.master(\"local\").appName(\"SteamReviewLR\").getOrCreate()"
   ]
  },
  {
   "cell_type": "code",
   "execution_count": 3,
   "id": "7fd46a73",
   "metadata": {},
   "outputs": [],
   "source": [
    "# Read the CSV file into a Spark DataFrame\n",
    "df = spark.read.csv('C:/Users/jensd/OneDrive/Documenten/Jens/Advanced Analytics/Assignment 3/dataset.csv', header=True, inferSchema=True)"
   ]
  },
  {
   "cell_type": "code",
   "execution_count": 4,
   "id": "241172a1",
   "metadata": {},
   "outputs": [],
   "source": [
    "# Take a subset\n",
    "df = df.limit(100000)"
   ]
  },
  {
   "cell_type": "code",
   "execution_count": 5,
   "id": "b747782e",
   "metadata": {},
   "outputs": [],
   "source": [
    "# Remove missing values\n",
    "df = df.na.drop()"
   ]
  },
  {
   "cell_type": "code",
   "execution_count": 6,
   "id": "49b8f4ea",
   "metadata": {},
   "outputs": [],
   "source": [
    "# Replace null values with empty strings\n",
    "df = df.na.fill('')"
   ]
  },
  {
   "cell_type": "code",
   "execution_count": 7,
   "id": "4661ca18",
   "metadata": {},
   "outputs": [],
   "source": [
    "# Select the relevant columns and rename them if needed\n",
    "data = df.select('review_text', 'review_score')\n",
    "data = data.withColumnRenamed('review_score', 'label')"
   ]
  },
  {
   "cell_type": "code",
   "execution_count": 8,
   "id": "91da1398",
   "metadata": {},
   "outputs": [],
   "source": [
    "# Define a user-defined function (UDF) to convert label values to integers\n",
    "label_to_int = udf(lambda label: 1 if label == 1 else 0, IntegerType())"
   ]
  },
  {
   "cell_type": "code",
   "execution_count": 9,
   "id": "10ab86d7",
   "metadata": {},
   "outputs": [],
   "source": [
    "# Apply the UDF to convert label values to integers\n",
    "data = data.withColumn('label_numeric', label_to_int('label'))"
   ]
  },
  {
   "cell_type": "code",
   "execution_count": 10,
   "id": "cbcf537e",
   "metadata": {},
   "outputs": [],
   "source": [
    "# Tokenize the review_text column\n",
    "tokenizer = Tokenizer(inputCol='review_text', outputCol='tokens')\n",
    "\n",
    "# Remove stop words from tokens\n",
    "stopwords_remover = StopWordsRemover(inputCol='tokens', outputCol='filtered_tokens')\n",
    "\n",
    "# Create the feature vector using the filtered_tokens column\n",
    "count_vectorizer = CountVectorizer(inputCol='filtered_tokens', outputCol='features')"
   ]
  },
  {
   "cell_type": "code",
   "execution_count": 11,
   "id": "3ce6d502",
   "metadata": {},
   "outputs": [],
   "source": [
    "# Split the data into training and testing sets\n",
    "train_data, test_data = data.randomSplit([0.8, 0.2], seed=42)\n",
    "\n",
    "# Create the sentiment analysis model pipeline\n",
    "lr = LogisticRegression(featuresCol='features', labelCol='label_numeric')\n",
    "pipeline = Pipeline(stages=[tokenizer, stopwords_remover,count_vectorizer, lr])"
   ]
  },
  {
   "cell_type": "code",
   "execution_count": 12,
   "id": "239fc8b3",
   "metadata": {},
   "outputs": [
    {
     "name": "stdout",
     "output_type": "stream",
     "text": [
      "Accuracy: 0.8507835113284758\n"
     ]
    }
   ],
   "source": [
    "# Train the model\n",
    "model = pipeline.fit(train_data)\n",
    "\n",
    "# Make predictions on the test data\n",
    "predictions = model.transform(test_data)\n",
    "\n",
    "# Create an evaluator instance\n",
    "evaluator = MulticlassClassificationEvaluator(labelCol=\"label_numeric\")\n",
    "\n",
    "# Calculate accuracy\n",
    "accuracy = evaluator.evaluate(predictions, {evaluator.metricName: \"accuracy\"})\n",
    "print(\"Accuracy:\", accuracy)"
   ]
  },
  {
   "cell_type": "code",
   "execution_count": 13,
   "id": "cae5436b",
   "metadata": {},
   "outputs": [],
   "source": [
    "model.save('LRmodel')"
   ]
  },
  {
   "cell_type": "code",
   "execution_count": 14,
   "id": "67e1931c",
   "metadata": {},
   "outputs": [],
   "source": [
    "spark.stop()"
   ]
  }
 ],
 "metadata": {
  "kernelspec": {
   "display_name": "Python 3 (ipykernel)",
   "language": "python",
   "name": "python3"
  },
  "language_info": {
   "codemirror_mode": {
    "name": "ipython",
    "version": 3
   },
   "file_extension": ".py",
   "mimetype": "text/x-python",
   "name": "python",
   "nbconvert_exporter": "python",
   "pygments_lexer": "ipython3",
   "version": "3.10.9"
  }
 },
 "nbformat": 4,
 "nbformat_minor": 5
}
