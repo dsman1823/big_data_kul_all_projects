{
 "cells": [
  {
   "cell_type": "code",
   "execution_count": null,
   "id": "daf5fc74",
   "metadata": {},
   "outputs": [],
   "source": [
    "import json\n",
    "import requests\n",
    "import csv\n",
    "import time\n",
    "\n",
    "# Set up the CSV file\n",
    "csv_file = open('steam_reviews.csv', 'w', newline='', encoding='utf-8')\n",
    "fieldnames = ['app_id', 'review_text', 'review_score', 'helpful_count']\n",
    "writer = csv.DictWriter(csv_file, fieldnames=fieldnames)\n",
    "writer.writeheader()\n",
    "\n",
    "# Loop through all app IDs and retrieve the most helpful reviews for each game\n",
    "for app_id in range(1, 100000):\n",
    "    url = f'https://store.steampowered.com/appreviews/{app_id}?json=1&num_per_page=100'\n",
    "    response = requests.get(url)\n",
    "\n",
    "    # Check if the response contains reviews data\n",
    "    if response.status_code == 200:\n",
    "        data = json.loads(response.content)\n",
    "        reviews = data['reviews']\n",
    "\n",
    "        # Sort the reviews by helpfulness and retrieve the most helpful reviews\n",
    "        reviews_sorted = sorted(reviews, key=lambda x: x['votes_up'], reverse=True)\n",
    "        reviews_top = reviews_sorted[:10]\n",
    "\n",
    "        # Write the reviews data to the CSV file\n",
    "        for review in reviews_top:\n",
    "            review_text = review['review']\n",
    "            review_score = review['voted_up']\n",
    "            helpful_count = review['votes_up']\n",
    "            writer.writerow({'app_id': app_id, 'review_text': review_text, 'review_score': review_score, 'helpful_count': helpful_count})\n",
    "\n",
    "    # Wait for a few seconds to avoid overloading the Steam API\n",
    "    time.sleep(5)\n",
    "\n",
    "# Close the CSV file\n",
    "csv_file.close()"
   ]
  }
 ],
 "metadata": {
  "kernelspec": {
   "display_name": "Python 3 (ipykernel)",
   "language": "python",
   "name": "python3"
  },
  "language_info": {
   "codemirror_mode": {
    "name": "ipython",
    "version": 3
   },
   "file_extension": ".py",
   "mimetype": "text/x-python",
   "name": "python",
   "nbconvert_exporter": "python",
   "pygments_lexer": "ipython3",
   "version": "3.11.3"
  }
 },
 "nbformat": 4,
 "nbformat_minor": 5
}
