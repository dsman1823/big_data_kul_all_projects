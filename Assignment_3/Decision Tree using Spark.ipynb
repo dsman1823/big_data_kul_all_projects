{
 "cells": [
  {
   "cell_type": "code",
   "execution_count": 1,
   "id": "538908ea",
   "metadata": {},
   "outputs": [],
   "source": [
    "from pyspark.sql import SparkSession\n",
    "from pyspark.ml.feature import Tokenizer, StopWordsRemover, CountVectorizer, StringIndexer\n",
    "from pyspark.ml.classification import DecisionTreeClassifier\n",
    "from pyspark.ml import Pipeline\n",
    "from pyspark.sql.functions import udf\n",
    "from pyspark.sql.types import IntegerType\n",
    "from pyspark.ml.evaluation import MulticlassClassificationEvaluator"
   ]
  },
  {
   "cell_type": "code",
   "execution_count": 2,
   "id": "5ba39425",
   "metadata": {},
   "outputs": [],
   "source": [
    "# Create a Spark session\n",
    "spark = SparkSession.builder.appName(\"SteamReviewDT\").getOrCreate()"
   ]
  },
  {
   "cell_type": "code",
   "execution_count": 3,
   "id": "c92500d6",
   "metadata": {},
   "outputs": [],
   "source": [
    "df = spark.read.csv('C:/Users/jensd/OneDrive/Documenten/Jens/Advanced Analytics/Assignment 3/dataset.csv', header=True, inferSchema=True)"
   ]
  },
  {
   "cell_type": "code",
   "execution_count": 4,
   "id": "805ab4ff",
   "metadata": {},
   "outputs": [],
   "source": [
    "# Take a subset\n",
    "df = df.limit(100000)"
   ]
  },
  {
   "cell_type": "code",
   "execution_count": 5,
   "id": "7c3ed27e",
   "metadata": {},
   "outputs": [],
   "source": [
    "# Remove missing values\n",
    "df = df.na.drop()"
   ]
  },
  {
   "cell_type": "code",
   "execution_count": 6,
   "id": "4134f0db",
   "metadata": {},
   "outputs": [],
   "source": [
    "# Replace null values with empty strings\n",
    "df = df.na.fill('')"
   ]
  },
  {
   "cell_type": "code",
   "execution_count": 7,
   "id": "febde998",
   "metadata": {},
   "outputs": [],
   "source": [
    "# Select the relevant columns and rename them if needed\n",
    "data = df.select('review_text', 'review_score')\n",
    "data = data.withColumnRenamed('review_score', 'label')"
   ]
  },
  {
   "cell_type": "code",
   "execution_count": 8,
   "id": "502e9e80",
   "metadata": {},
   "outputs": [],
   "source": [
    "# Define a user-defined function (UDF) to convert label values to integers\n",
    "label_to_int = udf(lambda label: 1 if label == 1 else 0, IntegerType())"
   ]
  },
  {
   "cell_type": "code",
   "execution_count": 9,
   "id": "35c5f68d",
   "metadata": {},
   "outputs": [],
   "source": [
    "# Apply the UDF to convert label values to integers\n",
    "data = data.withColumn('label_numeric', label_to_int('label'))"
   ]
  },
  {
   "cell_type": "code",
   "execution_count": 10,
   "id": "2e64381e",
   "metadata": {},
   "outputs": [],
   "source": [
    "# Tokenize the review_text column\n",
    "tokenizer = Tokenizer(inputCol='review_text', outputCol='tokens')\n",
    "\n",
    "# Remove stop words from tokens\n",
    "stopwords_remover = StopWordsRemover(inputCol='tokens', outputCol='filtered_tokens')\n",
    "\n",
    "# Create the feature vector using the filtered_tokens column\n",
    "count_vectorizer = CountVectorizer(inputCol='filtered_tokens', outputCol='features')"
   ]
  },
  {
   "cell_type": "code",
   "execution_count": 11,
   "id": "a7abfeed",
   "metadata": {},
   "outputs": [],
   "source": [
    "# Split the data into training and testing sets\n",
    "train_data, test_data = data.randomSplit([0.8, 0.2], seed=42)\n",
    "\n",
    "# Create the sentiment analysis model pipeline\n",
    "dt = DecisionTreeClassifier(featuresCol='features', labelCol='label_numeric')\n",
    "pipeline = Pipeline(stages=[tokenizer,stopwords_remover,count_vectorizer, dt])"
   ]
  },
  {
   "cell_type": "code",
   "execution_count": 12,
   "id": "48c233dd",
   "metadata": {},
   "outputs": [
    {
     "name": "stdout",
     "output_type": "stream",
     "text": [
      "Accuracy: 0.8713943507336062\n"
     ]
    }
   ],
   "source": [
    "# Train the model\n",
    "model = pipeline.fit(train_data)\n",
    "\n",
    "# Make predictions on the test data\n",
    "predictions = model.transform(test_data)\n",
    "\n",
    "# Create an evaluator instance\n",
    "evaluator = MulticlassClassificationEvaluator(labelCol=\"label_numeric\")\n",
    "\n",
    "# Calculate accuracy\n",
    "accuracy = evaluator.evaluate(predictions, {evaluator.metricName: \"accuracy\"})\n",
    "print(\"Accuracy:\", accuracy)\n"
   ]
  },
  {
   "cell_type": "code",
   "execution_count": 13,
   "id": "f39c9f11",
   "metadata": {},
   "outputs": [],
   "source": [
    "model.save('DTmodel')"
   ]
  },
  {
   "cell_type": "code",
   "execution_count": 14,
   "id": "9e7ab41b",
   "metadata": {},
   "outputs": [],
   "source": [
    "# Close the Spark session\n",
    "spark.stop()"
   ]
  },
  {
   "cell_type": "code",
   "execution_count": null,
   "id": "279b375c",
   "metadata": {},
   "outputs": [],
   "source": []
  }
 ],
 "metadata": {
  "kernelspec": {
   "display_name": "Python 3 (ipykernel)",
   "language": "python",
   "name": "python3"
  },
  "language_info": {
   "codemirror_mode": {
    "name": "ipython",
    "version": 3
   },
   "file_extension": ".py",
   "mimetype": "text/x-python",
   "name": "python",
   "nbconvert_exporter": "python",
   "pygments_lexer": "ipython3",
   "version": "3.10.9"
  }
 },
 "nbformat": 4,
 "nbformat_minor": 5
}
